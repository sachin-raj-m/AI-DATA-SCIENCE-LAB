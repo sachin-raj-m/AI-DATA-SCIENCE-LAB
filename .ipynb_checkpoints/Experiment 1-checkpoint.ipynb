{
 "cells": [
  {
   "cell_type": "markdown",
   "id": "5273999d",
   "metadata": {},
   "source": [
    "## Matrix Addition and Transpose"
   ]
  },
  {
   "cell_type": "code",
   "execution_count": 5,
   "id": "b1a11470",
   "metadata": {},
   "outputs": [
    {
     "name": "stdout",
     "output_type": "stream",
     "text": [
      "Enter the rows:3\n",
      "Enter the columns:3\n",
      "Enter Matrix 1 Elements:\n",
      "1\n",
      "2\n",
      "3\n",
      "4\n",
      "5\n",
      "6\n",
      "7\n",
      "8\n",
      "9\n",
      "Matrix 1:\n",
      "1  2  3  \n",
      "\n",
      "4  5  6  \n",
      "\n",
      "7  8  9  \n",
      "\n",
      "Transpose of Matrix 1:\n",
      "1  4  7  \n",
      "\n",
      "2  5  8  \n",
      "\n",
      "3  6  9  \n",
      "\n"
     ]
    }
   ],
   "source": [
    "#Entering Matrix 1 and finding transpose\n",
    "\n",
    "\n",
    "rows = int(input(\"Enter the rows:\"))\n",
    "columns = int(input(\"Enter the columns:\"))\n",
    "\n",
    "print(\"Enter Matrix 1 Elements:\")\n",
    "matrix1 = [[int(input()) for i in range (columns)] for j in range(rows)]\n",
    "\n",
    "print(\"Matrix 1:\")\n",
    "for i in range(rows):\n",
    "  for j in range(columns):\n",
    "    print(matrix1[i][j],end='  ')\n",
    "  print(\"\\n\")\n",
    "\n",
    "print(\"Transpose of Matrix 1:\")\n",
    "for i in range(columns):\n",
    "  for j in range(rows):\n",
    "    print(matrix1[j][i],end='  ')\n",
    "  print(\"\\n\")\n",
    "\n",
    "\n",
    "           "
   ]
  },
  {
   "cell_type": "code",
   "execution_count": 2,
   "id": "72ffadc3",
   "metadata": {},
   "outputs": [
    {
     "name": "stdout",
     "output_type": "stream",
     "text": [
      "Enter Matrix 2 Elements:\n",
      "1\n",
      "2\n",
      "3\n",
      "4\n",
      "5\n",
      "6\n",
      "7\n",
      "8\n",
      "9\n",
      "Matrix 2:\n",
      "1  2  3  \n",
      "\n",
      "4  5  6  \n",
      "\n",
      "7  8  9  \n",
      "\n",
      "Transpose of Matrix 2:\n",
      "1  4  7  \n",
      "\n",
      "2  5  8  \n",
      "\n",
      "3  6  9  \n",
      "\n"
     ]
    }
   ],
   "source": [
    "#Entering Matrix 2\n",
    "\n",
    "print(\"Enter Matrix 2 Elements:\")\n",
    "matrix2 = [[int(input()) for i in range (columns)] for j in range(rows)]\n",
    "           \n",
    "print(\"Matrix 2:\")\n",
    "for i in range(rows):\n",
    "  for j in range(columns):\n",
    "    print(matrix2[i][j],end='  ')\n",
    "  print(\"\\n\")\n",
    "\n",
    "print(\"Transpose of Matrix 2:\")\n",
    "for i in range(columns):\n",
    "  for j in range(rows):\n",
    "    print(matrix2[j][i],end='  ')\n",
    "  print(\"\\n\")"
   ]
  },
  {
   "cell_type": "code",
   "execution_count": 3,
   "id": "59064646",
   "metadata": {},
   "outputs": [
    {
     "name": "stdout",
     "output_type": "stream",
     "text": [
      "Matrix Sum:\n",
      "2  4  6  \n",
      "\n",
      "8  10  12  \n",
      "\n",
      "14  16  18  \n",
      "\n"
     ]
    }
   ],
   "source": [
    "result = [[matrix1[i][j] + matrix2[i][j]  for j in range(len(matrix1[0]))] for i in range(len(matrix1))]\n",
    "                                                                                         \n",
    "print(\"Matrix Sum:\")\n",
    "for i in range(rows):\n",
    "  for j in range(columns):\n",
    "    print(result[i][j],end='  ')\n",
    "  print(\"\\n\")                                        "
   ]
  },
  {
   "cell_type": "code",
   "execution_count": null,
   "id": "59e4582f",
   "metadata": {},
   "outputs": [],
   "source": []
  }
 ],
 "metadata": {
  "kernelspec": {
   "display_name": "Python 3 (ipykernel)",
   "language": "python",
   "name": "python3"
  },
  "language_info": {
   "codemirror_mode": {
    "name": "ipython",
    "version": 3
   },
   "file_extension": ".py",
   "mimetype": "text/x-python",
   "name": "python",
   "nbconvert_exporter": "python",
   "pygments_lexer": "ipython3",
   "version": "3.11.1"
  }
 },
 "nbformat": 4,
 "nbformat_minor": 5
}
