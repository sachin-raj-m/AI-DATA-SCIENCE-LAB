{
 "cells": [
  {
   "cell_type": "markdown",
   "id": "6fddcf65",
   "metadata": {},
   "source": [
    "## Mean, Median, Mode, SD and Variance"
   ]
  },
  {
   "cell_type": "code",
   "execution_count": 2,
   "id": "8c7dcef0",
   "metadata": {},
   "outputs": [
    {
     "name": "stdout",
     "output_type": "stream",
     "text": [
      "Enter the limit to generate:10\n",
      "[14, 18, 0, 6, 12, 19, 5, 0, 16, 3]\n"
     ]
    }
   ],
   "source": [
    "# mean, median and mode from a list of integers(random numbers) using user defined function\n",
    "#Standard Deviation and Variance using Built in Functions\n",
    "import random\n",
    "\n",
    "my_list = []\n",
    "limit = int(input(\"Enter the limit to generate:\"))\n",
    "\n",
    "for i in range(0,limit):\n",
    "    random_num = random.randint(0,20)\n",
    "    my_list.append(random_num)\n",
    "print(my_list)"
   ]
  },
  {
   "cell_type": "code",
   "execution_count": 7,
   "id": "222f6346",
   "metadata": {},
   "outputs": [
    {
     "name": "stdout",
     "output_type": "stream",
     "text": [
      "Mean= 4.6\n"
     ]
    }
   ],
   "source": [
    "def mean(list1):\n",
    "    mean = sum(list1) / len(list1)\n",
    "    print(\"Mean=\",mean)\n",
    "\n",
    "mean(my_list)"
   ]
  },
  {
   "cell_type": "code",
   "execution_count": 8,
   "id": "cd8de54a",
   "metadata": {},
   "outputs": [
    {
     "name": "stdout",
     "output_type": "stream",
     "text": [
      "Median = 6.0\n"
     ]
    }
   ],
   "source": [
    "    \n",
    "def median(list1):\n",
    "    list1.sort()\n",
    "    index = len(list1)//2\n",
    "    if(len(list1)%2==0):\n",
    "        median = (list1[index] + list1[index+1])/2\n",
    "    else:\n",
    "        median = (list1[index])/2\n",
    "    print(\"Median =\",median)\n",
    "\n",
    "median(my_list)"
   ]
  },
  {
   "cell_type": "code",
   "execution_count": 14,
   "id": "e1c071b7",
   "metadata": {},
   "outputs": [
    {
     "name": "stdout",
     "output_type": "stream",
     "text": [
      "{0: 1, 1: 1, 2: 2, 3: 1, 6: 2, 8: 1, 9: 2}\n",
      "Mode =  9\n"
     ]
    }
   ],
   "source": [
    "def mode(list1):\n",
    "    dict = {}\n",
    "    for i in list1:\n",
    "        if i not in dict:\n",
    "            dict[i] = 1\n",
    "        else:\n",
    "            dict[i] +=1\n",
    "    print(dict)\n",
    "    max_freq = max(dict.values())\n",
    "    \n",
    "    for i in dict:\n",
    "        if dict[i] == max_freq:\n",
    "            occur = i\n",
    "    \n",
    "    print('Mode = ',occur)\n",
    "\n",
    "mode(my_list)"
   ]
  },
  {
   "cell_type": "code",
   "execution_count": 9,
   "id": "dff4c309",
   "metadata": {},
   "outputs": [
    {
     "name": "stdout",
     "output_type": "stream",
     "text": [
      "Standard Deviation =  3.2310988842807022\n",
      "Variance =  10.44\n"
     ]
    }
   ],
   "source": [
    "import numpy as np\n",
    "print(\"Standard Deviation = \",np.std(my_list))\n",
    "print(\"Variance = \",np.var(my_list))"
   ]
  },
  {
   "cell_type": "markdown",
   "id": "23e24b4f",
   "metadata": {},
   "source": [
    "## Random numbers generation"
   ]
  },
  {
   "cell_type": "code",
   "execution_count": 4,
   "id": "8ef228bc",
   "metadata": {},
   "outputs": [
    {
     "name": "stdout",
     "output_type": "stream",
     "text": [
      "Enter the limit to generate:10\n",
      "[8, 3, 9, 3, 4, 6, 9, 8, 8, 5]\n"
     ]
    }
   ],
   "source": [
    "import random\n",
    "\n",
    "my_list = []\n",
    "limit = int(input(\"Enter the limit to generate:\"))\n",
    "\n",
    "for i in range(0,limit):\n",
    "    random_num = random.randint(0,10)\n",
    "    my_list.append(random_num)\n",
    "print(my_list)"
   ]
  },
  {
   "cell_type": "code",
   "execution_count": null,
   "id": "369d8e03",
   "metadata": {},
   "outputs": [],
   "source": []
  }
 ],
 "metadata": {
  "kernelspec": {
   "display_name": "Python 3 (ipykernel)",
   "language": "python",
   "name": "python3"
  },
  "language_info": {
   "codemirror_mode": {
    "name": "ipython",
    "version": 3
   },
   "file_extension": ".py",
   "mimetype": "text/x-python",
   "name": "python",
   "nbconvert_exporter": "python",
   "pygments_lexer": "ipython3",
   "version": "3.11.1"
  }
 },
 "nbformat": 4,
 "nbformat_minor": 5
}
