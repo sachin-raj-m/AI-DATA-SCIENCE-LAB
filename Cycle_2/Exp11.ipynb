{
 "cells": [
  {
   "cell_type": "code",
   "execution_count": 3,
   "id": "518ed0b1",
   "metadata": {},
   "outputs": [
    {
     "data": {
      "text/html": [
       "<div>\n",
       "<style scoped>\n",
       "    .dataframe tbody tr th:only-of-type {\n",
       "        vertical-align: middle;\n",
       "    }\n",
       "\n",
       "    .dataframe tbody tr th {\n",
       "        vertical-align: top;\n",
       "    }\n",
       "\n",
       "    .dataframe thead th {\n",
       "        text-align: right;\n",
       "    }\n",
       "</style>\n",
       "<table border=\"1\" class=\"dataframe\">\n",
       "  <thead>\n",
       "    <tr style=\"text-align: right;\">\n",
       "      <th></th>\n",
       "      <th>buy_price</th>\n",
       "      <th>maint_cost</th>\n",
       "      <th>doors</th>\n",
       "      <th>person</th>\n",
       "      <th>boot_space</th>\n",
       "      <th>safety</th>\n",
       "      <th>class</th>\n",
       "    </tr>\n",
       "  </thead>\n",
       "  <tbody>\n",
       "    <tr>\n",
       "      <th>0</th>\n",
       "      <td>vhigh</td>\n",
       "      <td>vhigh</td>\n",
       "      <td>2</td>\n",
       "      <td>2</td>\n",
       "      <td>small</td>\n",
       "      <td>low</td>\n",
       "      <td>unacc</td>\n",
       "    </tr>\n",
       "    <tr>\n",
       "      <th>1</th>\n",
       "      <td>vhigh</td>\n",
       "      <td>vhigh</td>\n",
       "      <td>2</td>\n",
       "      <td>2</td>\n",
       "      <td>small</td>\n",
       "      <td>med</td>\n",
       "      <td>unacc</td>\n",
       "    </tr>\n",
       "    <tr>\n",
       "      <th>2</th>\n",
       "      <td>vhigh</td>\n",
       "      <td>vhigh</td>\n",
       "      <td>2</td>\n",
       "      <td>2</td>\n",
       "      <td>small</td>\n",
       "      <td>high</td>\n",
       "      <td>unacc</td>\n",
       "    </tr>\n",
       "    <tr>\n",
       "      <th>3</th>\n",
       "      <td>vhigh</td>\n",
       "      <td>vhigh</td>\n",
       "      <td>2</td>\n",
       "      <td>2</td>\n",
       "      <td>med</td>\n",
       "      <td>low</td>\n",
       "      <td>unacc</td>\n",
       "    </tr>\n",
       "    <tr>\n",
       "      <th>4</th>\n",
       "      <td>vhigh</td>\n",
       "      <td>vhigh</td>\n",
       "      <td>2</td>\n",
       "      <td>2</td>\n",
       "      <td>med</td>\n",
       "      <td>med</td>\n",
       "      <td>unacc</td>\n",
       "    </tr>\n",
       "    <tr>\n",
       "      <th>...</th>\n",
       "      <td>...</td>\n",
       "      <td>...</td>\n",
       "      <td>...</td>\n",
       "      <td>...</td>\n",
       "      <td>...</td>\n",
       "      <td>...</td>\n",
       "      <td>...</td>\n",
       "    </tr>\n",
       "    <tr>\n",
       "      <th>1723</th>\n",
       "      <td>low</td>\n",
       "      <td>low</td>\n",
       "      <td>5more</td>\n",
       "      <td>more</td>\n",
       "      <td>med</td>\n",
       "      <td>med</td>\n",
       "      <td>good</td>\n",
       "    </tr>\n",
       "    <tr>\n",
       "      <th>1724</th>\n",
       "      <td>low</td>\n",
       "      <td>low</td>\n",
       "      <td>5more</td>\n",
       "      <td>more</td>\n",
       "      <td>med</td>\n",
       "      <td>high</td>\n",
       "      <td>vgood</td>\n",
       "    </tr>\n",
       "    <tr>\n",
       "      <th>1725</th>\n",
       "      <td>low</td>\n",
       "      <td>low</td>\n",
       "      <td>5more</td>\n",
       "      <td>more</td>\n",
       "      <td>big</td>\n",
       "      <td>low</td>\n",
       "      <td>unacc</td>\n",
       "    </tr>\n",
       "    <tr>\n",
       "      <th>1726</th>\n",
       "      <td>low</td>\n",
       "      <td>low</td>\n",
       "      <td>5more</td>\n",
       "      <td>more</td>\n",
       "      <td>big</td>\n",
       "      <td>med</td>\n",
       "      <td>good</td>\n",
       "    </tr>\n",
       "    <tr>\n",
       "      <th>1727</th>\n",
       "      <td>low</td>\n",
       "      <td>low</td>\n",
       "      <td>5more</td>\n",
       "      <td>more</td>\n",
       "      <td>big</td>\n",
       "      <td>high</td>\n",
       "      <td>vgood</td>\n",
       "    </tr>\n",
       "  </tbody>\n",
       "</table>\n",
       "<p>1728 rows × 7 columns</p>\n",
       "</div>"
      ],
      "text/plain": [
       "     buy_price maint_cost  doors person boot_space safety  class\n",
       "0        vhigh      vhigh      2      2      small    low  unacc\n",
       "1        vhigh      vhigh      2      2      small    med  unacc\n",
       "2        vhigh      vhigh      2      2      small   high  unacc\n",
       "3        vhigh      vhigh      2      2        med    low  unacc\n",
       "4        vhigh      vhigh      2      2        med    med  unacc\n",
       "...        ...        ...    ...    ...        ...    ...    ...\n",
       "1723       low        low  5more   more        med    med   good\n",
       "1724       low        low  5more   more        med   high  vgood\n",
       "1725       low        low  5more   more        big    low  unacc\n",
       "1726       low        low  5more   more        big    med   good\n",
       "1727       low        low  5more   more        big   high  vgood\n",
       "\n",
       "[1728 rows x 7 columns]"
      ]
     },
     "execution_count": 3,
     "metadata": {},
     "output_type": "execute_result"
    }
   ],
   "source": [
    "import pandas as pd\n",
    "import numpy as np\n",
    "data = pd.read_csv(\"car_evaluation - car_evaluation.csv\")\n",
    "data"
   ]
  },
  {
   "cell_type": "code",
   "execution_count": 8,
   "id": "24eb4b65",
   "metadata": {},
   "outputs": [
    {
     "name": "stdout",
     "output_type": "stream",
     "text": [
      "Rows: 1728\n",
      "columns: 7\n"
     ]
    }
   ],
   "source": [
    "rows,cols=data.shape\n",
    "print(f\"Rows:\",rows)\n",
    "print(f\"columns:\",cols)"
   ]
  },
  {
   "cell_type": "code",
   "execution_count": 9,
   "id": "cedfbaa0",
   "metadata": {},
   "outputs": [
    {
     "data": {
      "text/plain": [
       "buy_price     0\n",
       "maint_cost    0\n",
       "doors         0\n",
       "person        0\n",
       "boot_space    0\n",
       "safety        0\n",
       "class         0\n",
       "dtype: int64"
      ]
     },
     "execution_count": 9,
     "metadata": {},
     "output_type": "execute_result"
    }
   ],
   "source": [
    "data.isnull().sum()"
   ]
  },
  {
   "cell_type": "code",
   "execution_count": 10,
   "id": "0060eeec",
   "metadata": {},
   "outputs": [
    {
     "data": {
      "text/plain": [
       "Index(['buy_price', 'maint_cost', 'doors', 'person', 'boot_space', 'safety',\n",
       "       'class'],\n",
       "      dtype='object')"
      ]
     },
     "execution_count": 10,
     "metadata": {},
     "output_type": "execute_result"
    }
   ],
   "source": [
    "data.columns"
   ]
  },
  {
   "cell_type": "code",
   "execution_count": null,
   "id": "c1ffe3c9",
   "metadata": {},
   "outputs": [],
   "source": []
  },
  {
   "cell_type": "code",
   "execution_count": 22,
   "id": "d877cea1",
   "metadata": {},
   "outputs": [
    {
     "name": "stdout",
     "output_type": "stream",
     "text": [
      "5more\n",
      "2\n"
     ]
    }
   ],
   "source": [
    "#find the max value in doors\n",
    "max_value = data['doors'].max()\n",
    "print(max_value)\n",
    "#find the min value in doors \n",
    "min_value = data['doors'].min()\n",
    "print(min_value)"
   ]
  },
  {
   "cell_type": "code",
   "execution_count": 23,
   "id": "08c9928a",
   "metadata": {},
   "outputs": [
    {
     "name": "stdout",
     "output_type": "stream",
     "text": [
      "more\n",
      "2\n"
     ]
    }
   ],
   "source": [
    "#find the min and max of person \n",
    "max_value = data['person'].max()\n",
    "print(max_value)\n",
    "#find the min value in doors \n",
    "min_value = data['person'].min()\n",
    "print(min_value)"
   ]
  },
  {
   "cell_type": "code",
   "execution_count": 24,
   "id": "24f260e0",
   "metadata": {},
   "outputs": [],
   "source": [
    "from sklearn.preprocessing import LabelEncoder\n",
    "for col in data.columns[:-1]:\n",
    "    le=LabelEncoder()\n",
    "    data[col]=le.fit_transform(data[col])\n",
    "\n"
   ]
  },
  {
   "cell_type": "code",
   "execution_count": 26,
   "id": "d69c9344",
   "metadata": {},
   "outputs": [
    {
     "data": {
      "text/html": [
       "<div>\n",
       "<style scoped>\n",
       "    .dataframe tbody tr th:only-of-type {\n",
       "        vertical-align: middle;\n",
       "    }\n",
       "\n",
       "    .dataframe tbody tr th {\n",
       "        vertical-align: top;\n",
       "    }\n",
       "\n",
       "    .dataframe thead th {\n",
       "        text-align: right;\n",
       "    }\n",
       "</style>\n",
       "<table border=\"1\" class=\"dataframe\">\n",
       "  <thead>\n",
       "    <tr style=\"text-align: right;\">\n",
       "      <th></th>\n",
       "      <th>buy_price</th>\n",
       "      <th>maint_cost</th>\n",
       "      <th>doors</th>\n",
       "      <th>person</th>\n",
       "      <th>boot_space</th>\n",
       "      <th>safety</th>\n",
       "      <th>class</th>\n",
       "    </tr>\n",
       "  </thead>\n",
       "  <tbody>\n",
       "    <tr>\n",
       "      <th>0</th>\n",
       "      <td>3</td>\n",
       "      <td>3</td>\n",
       "      <td>0</td>\n",
       "      <td>0</td>\n",
       "      <td>2</td>\n",
       "      <td>1</td>\n",
       "      <td>unacc</td>\n",
       "    </tr>\n",
       "    <tr>\n",
       "      <th>1</th>\n",
       "      <td>3</td>\n",
       "      <td>3</td>\n",
       "      <td>0</td>\n",
       "      <td>0</td>\n",
       "      <td>2</td>\n",
       "      <td>2</td>\n",
       "      <td>unacc</td>\n",
       "    </tr>\n",
       "    <tr>\n",
       "      <th>2</th>\n",
       "      <td>3</td>\n",
       "      <td>3</td>\n",
       "      <td>0</td>\n",
       "      <td>0</td>\n",
       "      <td>2</td>\n",
       "      <td>0</td>\n",
       "      <td>unacc</td>\n",
       "    </tr>\n",
       "    <tr>\n",
       "      <th>3</th>\n",
       "      <td>3</td>\n",
       "      <td>3</td>\n",
       "      <td>0</td>\n",
       "      <td>0</td>\n",
       "      <td>1</td>\n",
       "      <td>1</td>\n",
       "      <td>unacc</td>\n",
       "    </tr>\n",
       "    <tr>\n",
       "      <th>4</th>\n",
       "      <td>3</td>\n",
       "      <td>3</td>\n",
       "      <td>0</td>\n",
       "      <td>0</td>\n",
       "      <td>1</td>\n",
       "      <td>2</td>\n",
       "      <td>unacc</td>\n",
       "    </tr>\n",
       "    <tr>\n",
       "      <th>5</th>\n",
       "      <td>3</td>\n",
       "      <td>3</td>\n",
       "      <td>0</td>\n",
       "      <td>0</td>\n",
       "      <td>1</td>\n",
       "      <td>0</td>\n",
       "      <td>unacc</td>\n",
       "    </tr>\n",
       "    <tr>\n",
       "      <th>6</th>\n",
       "      <td>3</td>\n",
       "      <td>3</td>\n",
       "      <td>0</td>\n",
       "      <td>0</td>\n",
       "      <td>0</td>\n",
       "      <td>1</td>\n",
       "      <td>unacc</td>\n",
       "    </tr>\n",
       "    <tr>\n",
       "      <th>7</th>\n",
       "      <td>3</td>\n",
       "      <td>3</td>\n",
       "      <td>0</td>\n",
       "      <td>0</td>\n",
       "      <td>0</td>\n",
       "      <td>2</td>\n",
       "      <td>unacc</td>\n",
       "    </tr>\n",
       "    <tr>\n",
       "      <th>8</th>\n",
       "      <td>3</td>\n",
       "      <td>3</td>\n",
       "      <td>0</td>\n",
       "      <td>0</td>\n",
       "      <td>0</td>\n",
       "      <td>0</td>\n",
       "      <td>unacc</td>\n",
       "    </tr>\n",
       "    <tr>\n",
       "      <th>9</th>\n",
       "      <td>3</td>\n",
       "      <td>3</td>\n",
       "      <td>0</td>\n",
       "      <td>1</td>\n",
       "      <td>2</td>\n",
       "      <td>1</td>\n",
       "      <td>unacc</td>\n",
       "    </tr>\n",
       "  </tbody>\n",
       "</table>\n",
       "</div>"
      ],
      "text/plain": [
       "   buy_price  maint_cost  doors  person  boot_space  safety  class\n",
       "0          3           3      0       0           2       1  unacc\n",
       "1          3           3      0       0           2       2  unacc\n",
       "2          3           3      0       0           2       0  unacc\n",
       "3          3           3      0       0           1       1  unacc\n",
       "4          3           3      0       0           1       2  unacc\n",
       "5          3           3      0       0           1       0  unacc\n",
       "6          3           3      0       0           0       1  unacc\n",
       "7          3           3      0       0           0       2  unacc\n",
       "8          3           3      0       0           0       0  unacc\n",
       "9          3           3      0       1           2       1  unacc"
      ]
     },
     "execution_count": 26,
     "metadata": {},
     "output_type": "execute_result"
    }
   ],
   "source": [
    "data.head(10)"
   ]
  },
  {
   "cell_type": "code",
   "execution_count": 25,
   "id": "43363ff5",
   "metadata": {},
   "outputs": [
    {
     "name": "stdout",
     "output_type": "stream",
     "text": [
      "      buy_price  maint_cost  doors  person  boot_space  safety\n",
      "0             3           3      0       0           2       1\n",
      "1             3           3      0       0           2       2\n",
      "2             3           3      0       0           2       0\n",
      "3             3           3      0       0           1       1\n",
      "4             3           3      0       0           1       2\n",
      "...         ...         ...    ...     ...         ...     ...\n",
      "1723          1           1      3       2           1       2\n",
      "1724          1           1      3       2           1       0\n",
      "1725          1           1      3       2           0       1\n",
      "1726          1           1      3       2           0       2\n",
      "1727          1           1      3       2           0       0\n",
      "\n",
      "[1728 rows x 6 columns]\n",
      "      class\n",
      "0     unacc\n",
      "1     unacc\n",
      "2     unacc\n",
      "3     unacc\n",
      "4     unacc\n",
      "...     ...\n",
      "1723   good\n",
      "1724  vgood\n",
      "1725  unacc\n",
      "1726   good\n",
      "1727  vgood\n",
      "\n",
      "[1728 rows x 1 columns]\n"
     ]
    }
   ],
   "source": [
    "#define data into features and target \n",
    "X = data[['buy_price', 'maint_cost', 'doors', 'person', 'boot_space', 'safety']]\n",
    "y = data[['class']]\n",
    "print(X)\n",
    "print(y)"
   ]
  },
  {
   "cell_type": "code",
   "execution_count": 27,
   "id": "b5eb3fe7",
   "metadata": {},
   "outputs": [
    {
     "name": "stdout",
     "output_type": "stream",
     "text": [
      "3\n",
      "0\n"
     ]
    }
   ],
   "source": [
    "#find the max value in doors\n",
    "max_value = data['doors'].max()\n",
    "print(max_value)\n",
    "#find the min value in doors \n",
    "min_value = data['doors'].min()\n",
    "print(min_value)"
   ]
  },
  {
   "cell_type": "code",
   "execution_count": 28,
   "id": "b8d8d37b",
   "metadata": {},
   "outputs": [
    {
     "name": "stdout",
     "output_type": "stream",
     "text": [
      "2\n",
      "0\n"
     ]
    }
   ],
   "source": [
    "#find the max value in person\n",
    "max_value = data['person'].max()\n",
    "print(max_value)\n",
    "#find the min value in doors \n",
    "min_value = data['person'].min()\n",
    "print(min_value)"
   ]
  },
  {
   "cell_type": "code",
   "execution_count": null,
   "id": "5e98e1d8",
   "metadata": {},
   "outputs": [],
   "source": []
  },
  {
   "cell_type": "code",
   "execution_count": 19,
   "id": "1de45722",
   "metadata": {},
   "outputs": [
    {
     "name": "stdout",
     "output_type": "stream",
     "text": [
      "     buy_price maint_cost  doors person boot_space safety\n",
      "0        vhigh      vhigh      2      2      small    low\n",
      "1        vhigh      vhigh      2      2      small    med\n",
      "2        vhigh      vhigh      2      2      small   high\n",
      "3        vhigh      vhigh      2      2        med    low\n",
      "4        vhigh      vhigh      2      2        med    med\n",
      "...        ...        ...    ...    ...        ...    ...\n",
      "1723       low        low  5more   more        med    med\n",
      "1724       low        low  5more   more        med   high\n",
      "1725       low        low  5more   more        big    low\n",
      "1726       low        low  5more   more        big    med\n",
      "1727       low        low  5more   more        big   high\n",
      "\n",
      "[1728 rows x 6 columns]\n",
      "0       unacc\n",
      "1       unacc\n",
      "2       unacc\n",
      "3       unacc\n",
      "4       unacc\n",
      "        ...  \n",
      "1723     good\n",
      "1724    vgood\n",
      "1725    unacc\n",
      "1726     good\n",
      "1727    vgood\n",
      "Name: class, Length: 1728, dtype: object\n"
     ]
    }
   ],
   "source": [
    "X_ = data.iloc[:, :-1]\n",
    "y_ = data.iloc[:, -1]\n",
    "print(X_)\n",
    "print(y_)"
   ]
  },
  {
   "cell_type": "code",
   "execution_count": null,
   "id": "8dae7af6",
   "metadata": {},
   "outputs": [],
   "source": []
  },
  {
   "cell_type": "code",
   "execution_count": 32,
   "id": "b2ae7a19",
   "metadata": {},
   "outputs": [],
   "source": [
    "from sklearn.model_selection import train_test_split\n",
    "from sklearn.preprocessing import StandardScaler\n",
    "X_train,X_test,y_train,y_test=train_test_split(X,y,test_size=.30,random_state=40)\n",
    "\n",
    "\n",
    "#Standardize the features (Important for PCA)\n",
    "sc = StandardScaler()\n",
    "X_train = sc.fit_transform(X_train)\n",
    "X_test = sc.transform(X_test)"
   ]
  },
  {
   "cell_type": "code",
   "execution_count": 33,
   "id": "e45a449d",
   "metadata": {},
   "outputs": [],
   "source": [
    " \n",
    "#perform PCA with different number of components\n",
    "from sklearn.decomposition import PCA\n",
    "from sklearn.ensemble import RandomForestClassifier\n",
    "from sklearn.metrics import accuracy_score\n",
    "best_accuracy=0\n",
    "best_n_components=0"
   ]
  },
  {
   "cell_type": "code",
   "execution_count": 34,
   "id": "3eba1f66",
   "metadata": {},
   "outputs": [
    {
     "name": "stderr",
     "output_type": "stream",
     "text": [
      "/tmp/ipykernel_2781/3533891329.py:9: DataConversionWarning: A column-vector y was passed when a 1d array was expected. Please change the shape of y to (n_samples,), for example using ravel().\n",
      "  clf.fit(X_train_pca,y_train)\n",
      "/tmp/ipykernel_2781/3533891329.py:9: DataConversionWarning: A column-vector y was passed when a 1d array was expected. Please change the shape of y to (n_samples,), for example using ravel().\n",
      "  clf.fit(X_train_pca,y_train)\n"
     ]
    },
    {
     "name": "stdout",
     "output_type": "stream",
     "text": [
      "Number of PCA Components:2,Accuracy:0.6242774566473989\n",
      "Number of PCA Components:3,Accuracy:0.6647398843930635\n"
     ]
    },
    {
     "name": "stderr",
     "output_type": "stream",
     "text": [
      "/tmp/ipykernel_2781/3533891329.py:9: DataConversionWarning: A column-vector y was passed when a 1d array was expected. Please change the shape of y to (n_samples,), for example using ravel().\n",
      "  clf.fit(X_train_pca,y_train)\n",
      "/tmp/ipykernel_2781/3533891329.py:9: DataConversionWarning: A column-vector y was passed when a 1d array was expected. Please change the shape of y to (n_samples,), for example using ravel().\n",
      "  clf.fit(X_train_pca,y_train)\n"
     ]
    },
    {
     "name": "stdout",
     "output_type": "stream",
     "text": [
      "Number of PCA Components:4,Accuracy:0.6358381502890174\n",
      "Number of PCA Components:5,Accuracy:0.6319845857418112\n",
      "Best number of PCA components:3,Best accuracy:0.6647398843930635\n"
     ]
    }
   ],
   "source": [
    "for n_components in range(2,6):\n",
    "    pca=PCA(n_components=n_components)\n",
    "    X_train_pca=pca.fit_transform(X_train)\n",
    "    X_test_pca=pca.fit_transform(X_test)\n",
    "\n",
    "\n",
    "    #train a classifier(Random Forest Classifier)\n",
    "    clf=RandomForestClassifier(random_state=42)\n",
    "    clf.fit(X_train_pca,y_train)\n",
    "\n",
    "    #make predictions and calculate accuracy\n",
    "    y_pred=clf.predict(X_test_pca)\n",
    "    accuracy=accuracy_score(y_test,y_pred)\n",
    "\n",
    "    print(f\"Number of PCA Components:{n_components},Accuracy:{accuracy}\")\n",
    "\n",
    "\n",
    "    #update best accuracy and number of components\n",
    "    if accuracy>best_accuracy:\n",
    "        best_accuracy=accuracy\n",
    "        best_n_components=n_components\n",
    "\n",
    "print(f\"Best number of PCA components:{best_n_components},Best accuracy:{best_accuracy}\")\n"
   ]
  },
  {
   "cell_type": "code",
   "execution_count": null,
   "id": "8f547aee",
   "metadata": {},
   "outputs": [],
   "source": []
  }
 ],
 "metadata": {
  "kernelspec": {
   "display_name": "Python 3 (ipykernel)",
   "language": "python",
   "name": "python3"
  },
  "language_info": {
   "codemirror_mode": {
    "name": "ipython",
    "version": 3
   },
   "file_extension": ".py",
   "mimetype": "text/x-python",
   "name": "python",
   "nbconvert_exporter": "python",
   "pygments_lexer": "ipython3",
   "version": "3.11.1"
  }
 },
 "nbformat": 4,
 "nbformat_minor": 5
}
